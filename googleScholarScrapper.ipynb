{
 "cells": [
  {
   "cell_type": "code",
   "execution_count": 1,
   "metadata": {},
   "outputs": [],
   "source": [
    "# -*- coding: utf-8 -*-\n",
    "from bs4 import BeautifulSoup\n",
    "import requests\n",
    "import pandas as pd\n",
    "import time\n",
    "\n",
    "queries = [\"Image+to+Image+Translation\", \"GAN\", \"Image+Translation\", \"Deep+Learning\"]\n"
   ]
  },
  {
   "cell_type": "code",
   "execution_count": 2,
   "metadata": {},
   "outputs": [
    {
     "ename": "KeyboardInterrupt",
     "evalue": "",
     "output_type": "error",
     "traceback": [
      "\u001b[0;31m---------------------------------------------------------------------------\u001b[0m",
      "\u001b[0;31mKeyboardInterrupt\u001b[0m                         Traceback (most recent call last)",
      "Cell \u001b[0;32mIn [2], line 32\u001b[0m\n\u001b[1;32m     29\u001b[0m         \u001b[39mpass\u001b[39;00m\n\u001b[1;32m     31\u001b[0m queries_dict[q] \u001b[39m=\u001b[39m [titles, years]\n\u001b[0;32m---> 32\u001b[0m time\u001b[39m.\u001b[39;49msleep(\u001b[39m2.4\u001b[39;49m)\n",
      "\u001b[0;31mKeyboardInterrupt\u001b[0m: "
     ]
    }
   ],
   "source": [
    "queries_dict = {}\n",
    "\n",
    "\n",
    "for q in queries:\n",
    "\n",
    "    titles, years = [], []\n",
    "\n",
    "    for i in range(0, 500, 10):\n",
    "\n",
    "        headers = {'User-Agent':'Mozilla/5.0 (X11; Ubuntu; Linux x86_64; rv:97.0) Gecko/20100101 Firefox/97.0'}\n",
    "        url = f'https://scholar.google.com/scholar?hl=fr&q={q}&start={i}'\n",
    "        response=requests.get(url,headers=headers)\n",
    "        soup=BeautifulSoup(response.content,'lxml')\n",
    "\n",
    "        for item in soup.select('[data-lid]'):\n",
    "            try:\n",
    "                print('----------------------------------------')\n",
    "                # print(item)\n",
    "                year = int(item.select('.gs_a')[0].get_text().split(\",\")[-1].split(\"-\")[0])\n",
    "                title = str(item.select('h3')[0].get_text())\n",
    "                print(\"title:\", title)\n",
    "                print(\"year: \", year)\n",
    "                years.append(years)\n",
    "                titles.append(title)\n",
    "            \n",
    "            except Exception as e:\n",
    "                #raise e\n",
    "                # print('')\n",
    "                pass\n",
    "        \n",
    "        queries_dict[q] = [titles, years]\n",
    "        time.sleep(2.4)"
   ]
  },
  {
   "cell_type": "code",
   "execution_count": 3,
   "metadata": {},
   "outputs": [
    {
     "data": {
      "text/plain": [
       "{'Image+to+Image+Translation': [[], []]}"
      ]
     },
     "execution_count": 3,
     "metadata": {},
     "output_type": "execute_result"
    }
   ],
   "source": [
    "queries_dict\n",
    "\n"
   ]
  },
  {
   "cell_type": "code",
   "execution_count": 3,
   "metadata": {},
   "outputs": [
    {
     "data": {
      "text/plain": [
       "<!DOCTYPE html PUBLIC \"-//W3C//DTD HTML 4.01 Transitional//EN\">\n",
       "<html dir=\"LTR\">\n",
       "<head><meta content=\"text/html; charset=utf-8\" http-equiv=\"content-type\"/><meta content=\"initial-scale=1\" name=\"viewport\"/><title>https://scholar.google.com/scholar?hl=fr&amp;q=Image+to+Image+Translation&amp;start=20</title></head>\n",
       "<body onload=\"e=document.getElementById('captcha');if(e){e.focus();} if(solveSimpleChallenge) {solveSimpleChallenge(,);}\" style=\"font-family: arial, sans-serif; background-color: #fff; color: #000; padding:20px; font-size:18px;\">\n",
       "<div style=\"max-width:400px;\">\n",
       "<hr noshade=\"\" size=\"1\" style=\"color:#ccc; background-color:#ccc;\"/><br/>\n",
       "<form action=\"index\" id=\"captcha-form\" method=\"post\">\n",
       "<noscript>\n",
       "<div style=\"font-size:13px;\">\n",
       "Pour continuer, veuillez activer JavaScript sur votre navigateur Web.\n",
       "</div>\n",
       "</noscript>\n",
       "<script async=\"\" defer=\"\" src=\"https://www.google.com/recaptcha/api.js\"></script>\n",
       "<script>var submitCallback = function(response) {document.getElementById('captcha-form').submit();};</script>\n",
       "<div class=\"g-recaptcha\" data-callback=\"submitCallback\" data-s=\"7omLBAHQjoFE0TP9jJwcRGOA460SUbm6aX9-n_h6f8qJIAPs7BMgslbLzXTqPz4i2wC--AyI0VEL7pP7iceYU8jY5FGsoUzyGDGISVLMjxlgPnv1c6-5lxQLwn2D_WS9gP4r557UyW8ZCUPv2tm2h7sGMW2Z5Jii7VVIlmDOtrKHJl453RFU28JSKeAZGBHy9x34yx0HCmJkC1yS88HwmoAGwJLkVv-IVCZHiZw\" data-sitekey=\"6LfwuyUTAAAAAOAmoS0fdqijC2PbbdH4kjq62Y1b\" id=\"recaptcha\"></div>\n",
       "<input name=\"q\" type=\"hidden\" value=\"EgTBqDwXGOCA3poGIhDgnzydtIV89ZP8fWVTiJw9MgFy\"/><input name=\"continue\" type=\"hidden\" value=\"https://scholar.google.com/scholar?hl=fr&amp;q=Image+to+Image+Translation&amp;start=20\"/>\n",
       "</form>\n",
       "<hr noshade=\"\" size=\"1\" style=\"color:#ccc; background-color:#ccc;\"/>\n",
       "<div style=\"font-size:13px;\">\n",
       "<b>À propos de cette page</b><br/><br/>\n",
       "\n",
       "Nos systèmes ont détecté un trafic exceptionnel sur votre réseau informatique. Cette page permet de vérifier que c'est bien vous qui envoyez des requêtes, et non un robot. <a href=\"#\" onclick=\"document.getElementById('infoDiv').style.display='block';\">Que s'est-il passé ?</a><br/><br/>\n",
       "<div id=\"infoDiv\" style=\"display:none; background-color:#eee; padding:10px; margin:0 0 15px 0; line-height:1.4em;\">\n",
       "Cette page s'affiche lorsque Google détecte automatiquement des requêtes émanant de votre réseau informatique qui semblent enfreindre les <a href=\"//www.google.com/policies/terms/\">Conditions d'utilisation</a>. Le blocage prendra fin peu après l'arrêt de ces requêtes. En attendant, la saisie de l'image CAPTCHA ci-dessus vous permettra de continuer à utiliser nos services.<br/><br/>Des applications malveillantes, un plug-in de navigateur ou un script qui envoie des requêtes automatiques peuvent être à l'origine de ce trafic. Si vous utilisez une connexion réseau partagée, demandez de l'aide à votre administrateur. Il est possible qu'un autre ordinateur utilisant la même adresse IP soit en cause. <a href=\"//support.google.com/websearch/answer/86640\">En savoir plus</a><br/><br/>Vous pouvez être invité à saisir les caractères de l'image CAPTCHA si vous utilisez des termes avancés auxquels les robots ont recours ou si vous envoyez des requêtes très rapidement.\n",
       "\n",
       "</div><br/>\n",
       "Adresse IP : 193.168.60.23<br/>Heure : 2022-10-25T06:21:20Z<br/>URL : https://scholar.google.com/scholar?hl=fr&amp;q=Image+to+Image+Translation&amp;start=20<br/>\n",
       "</div></div>\n",
       "</body>\n",
       "</html>"
      ]
     },
     "execution_count": 3,
     "metadata": {},
     "output_type": "execute_result"
    }
   ],
   "source": [
    "soup"
   ]
  },
  {
   "cell_type": "code",
   "execution_count": null,
   "metadata": {},
   "outputs": [],
   "source": []
  }
 ],
 "metadata": {
  "kernelspec": {
   "display_name": "Python 3.8.10 ('venv': venv)",
   "language": "python",
   "name": "python3"
  },
  "language_info": {
   "codemirror_mode": {
    "name": "ipython",
    "version": 3
   },
   "file_extension": ".py",
   "mimetype": "text/x-python",
   "name": "python",
   "nbconvert_exporter": "python",
   "pygments_lexer": "ipython3",
   "version": "3.8.10"
  },
  "orig_nbformat": 4,
  "vscode": {
   "interpreter": {
    "hash": "1417d814f4797146e92d23e6047d6841ea7c980eab00c07a53632309676d8e05"
   }
  }
 },
 "nbformat": 4,
 "nbformat_minor": 2
}
